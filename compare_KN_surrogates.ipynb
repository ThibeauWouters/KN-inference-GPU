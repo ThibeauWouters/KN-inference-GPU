{
 "cells": [
  {
   "cell_type": "markdown",
   "metadata": {},
   "source": [
    "# Comparing KN surrogate models"
   ]
  },
  {
   "cell_type": "markdown",
   "metadata": {},
   "source": [
    "**Abstract:** Here we compare the MSE of the surrogate models between, e.g. Tensorflow and Jax/flax models."
   ]
  },
  {
   "cell_type": "code",
   "execution_count": null,
   "metadata": {},
   "outputs": [],
   "source": [
    "%load_ext autoreload \n",
    "%autoreload 2\n",
    "\n",
    "import numpy as np\n",
    "import pandas as pd\n",
    "import matplotlib.pyplot as plt\n",
    "import os\n",
    "from nmma.em.training import SVDTrainingModel\n",
    "from nmma.em.model import SVDLightCurveModel\n",
    "import nmma as nmma\n",
    "import time\n",
    "import arviz\n",
    "\n",
    "params = {\"axes.grid\": True,\n",
    "        \"text.usetex\" : True,\n",
    "        \"font.family\" : \"serif\",\n",
    "        \"ytick.color\" : \"black\",\n",
    "        \"xtick.color\" : \"black\",\n",
    "        \"axes.labelcolor\" : \"black\",\n",
    "        \"axes.edgecolor\" : \"black\",\n",
    "        \"font.serif\" : [\"Computer Modern Serif\"],\n",
    "        \"xtick.labelsize\": 16,\n",
    "        \"ytick.labelsize\": 16,\n",
    "        \"axes.labelsize\": 16,\n",
    "        \"legend.fontsize\": 16,\n",
    "        \"legend.title_fontsize\": 16,\n",
    "        \"figure.titlesize\": 16}\n",
    "\n",
    "plt.rcParams.update(params)\n",
    "\n",
    "from nmma.em.io import read_photometry_files\n",
    "from nmma.em.utils import interpolate_nans\n",
    "\n",
    "import inspect \n",
    "import nmma.em.model_parameters as model_parameters\n",
    "\n",
    "MODEL_FUNCTIONS = {\n",
    "    k: v for k, v in model_parameters.__dict__.items() if inspect.isfunction(v)\n",
    "}\n",
    "\n",
    "model_name = \"Bu2022Ye\"\n",
    "model_function = MODEL_FUNCTIONS[model_name]"
   ]
  },
  {
   "cell_type": "code",
   "execution_count": null,
   "metadata": {},
   "outputs": [],
   "source": [
    "import jax\n",
    "import jaxlib\n",
    "jax.devices() # check if CUDA is present"
   ]
  },
  {
   "cell_type": "markdown",
   "metadata": {},
   "source": [
    "## Preprocessing data"
   ]
  },
  {
   "cell_type": "code",
   "execution_count": null,
   "metadata": {},
   "outputs": [],
   "source": [
    "lcs_dir = \"/home/urash/twouters/KN_Lightcurves/lightcurves/lcs_bulla_2022\" # for remote SSH Potsdam\n",
    "flax_svd_path = \"/home/urash/twouters/nmma_models/flax_models/\" # initial flax models will be saved here\n",
    "svd_path = \"/home/urash/twouters/nmma_models/\"\n",
    "filenames = os.listdir(lcs_dir)\n",
    "full_filenames = [os.path.join(lcs_dir, f) for f in filenames]\n",
    "print(f\"There are {len(full_filenames)} lightcurves for this model.\")"
   ]
  },
  {
   "cell_type": "code",
   "execution_count": null,
   "metadata": {},
   "outputs": [],
   "source": [
    "# Read the data and interpolate the NaNs, and get training data\n",
    "data = read_photometry_files(full_filenames)\n",
    "data = interpolate_nans(data)\n",
    "training_data, parameters = model_function(data)"
   ]
  },
  {
   "cell_type": "code",
   "execution_count": null,
   "metadata": {},
   "outputs": [],
   "source": [
    "#Extract times and filters\n",
    "key = list(training_data.keys())[0]\n",
    "example = training_data[key]\n",
    "t = example[\"t\"]\n",
    "keys = list(example.keys())\n",
    "filts = [k for k in keys if k not in parameters + [\"t\"]]"
   ]
  },
  {
   "cell_type": "markdown",
   "metadata": {},
   "source": [
    "## Get the models\n"
   ]
  },
  {
   "cell_type": "code",
   "execution_count": null,
   "metadata": {},
   "outputs": [],
   "source": [
    "flax_model = SVDLightCurveModel(\n",
    "        model_name,\n",
    "        t,\n",
    "        svd_path=flax_svd_path,\n",
    "        parameter_conversion=None,\n",
    "        mag_ncoeff=10,\n",
    "        lbol_ncoeff=None,\n",
    "        interpolation_type=\"flax\",\n",
    "        model_parameters=None,\n",
    "        filters=filts,\n",
    "        local_only=True\n",
    ")\n",
    "print(flax_model.svd_path)"
   ]
  },
  {
   "cell_type": "code",
   "execution_count": null,
   "metadata": {},
   "outputs": [],
   "source": [
    "# training_model.__dict__.keys()"
   ]
  },
  {
   "cell_type": "code",
   "execution_count": null,
   "metadata": {},
   "outputs": [],
   "source": [
    "tf_model = SVDLightCurveModel(\n",
    "        model_name,\n",
    "        t,\n",
    "        svd_path=svd_path,\n",
    "        parameter_conversion=None,\n",
    "        mag_ncoeff=10,\n",
    "        lbol_ncoeff=None,\n",
    "        interpolation_type=\"tensorflow\",\n",
    "        model_parameters=None,\n",
    "        filters=filts,\n",
    "        local_only=True\n",
    ")\n",
    "print(tf_model.svd_path)"
   ]
  },
  {
   "cell_type": "markdown",
   "metadata": {},
   "source": [
    "## Get the input and output pairs of the Bu2022Ye model"
   ]
  },
  {
   "cell_type": "code",
   "execution_count": null,
   "metadata": {},
   "outputs": [],
   "source": [
    "def get_input_values(training_data: dict, parameters: list) -> np.ndarray:\n",
    "    \"\"\"\n",
    "    From a dictionary of training data, extract the input values for the model.\n",
    "    \"\"\"\n",
    "    \n",
    "    input_values = []\n",
    "    \n",
    "    for key in training_data.keys():\n",
    "        data = training_data[key]\n",
    "        input_values.append([data[param] for param in parameters])\n",
    "    \n",
    "    return np.array(input_values)"
   ]
  },
  {
   "cell_type": "code",
   "execution_count": null,
   "metadata": {},
   "outputs": [],
   "source": [
    "def get_output_values(training_data: dict) -> np.ndarray:\n",
    "    \"\"\"\n",
    "    From a dictionary of training data, extract the output values for the model.\n",
    "    \"\"\"\n",
    "    keys = list(training_data.keys())\n",
    "    if \"data\" in training_data[keys[0]].keys():\n",
    "        # This is the version that was in use for NMMA-GPU\n",
    "        output_values = [training_data[key][\"data\"] for key in training_data.keys()]\n",
    "    else:\n",
    "        # This is the version for NMMA CPU, 12/12/2023\n",
    "        output_values = []\n",
    "        for key in training_data.keys():\n",
    "            data = training_data[key]\n",
    "            new_list = [data[f] for f in filts]\n",
    "            output_values.append(new_list)\n",
    "    \n",
    "    return np.array(output_values)"
   ]
  },
  {
   "cell_type": "code",
   "execution_count": null,
   "metadata": {},
   "outputs": [],
   "source": [
    "input_values = get_input_values(training_data, parameters)\n",
    "output_values = get_output_values(training_data)"
   ]
  },
  {
   "cell_type": "code",
   "execution_count": null,
   "metadata": {},
   "outputs": [],
   "source": [
    "print(np.shape(input_values))\n",
    "print(np.shape(output_values))"
   ]
  },
  {
   "cell_type": "markdown",
   "metadata": {},
   "source": [
    "NOTE: this can be done faster with jax.vmap etc, but not for "
   ]
  },
  {
   "cell_type": "code",
   "execution_count": 40,
   "metadata": {},
   "outputs": [],
   "source": [
    "N = 100\n",
    "# Select a random subset of indices for the input values\n",
    "idx_list = np.random.choice(len(input_values), N, replace=False)\n",
    "sampled_input_values = input_values[idx_list]\n",
    "sampled_output_values = output_values[idx_list]"
   ]
  },
  {
   "cell_type": "markdown",
   "metadata": {},
   "source": [
    "**NOTE** this is without optimization from jax!"
   ]
  },
  {
   "cell_type": "code",
   "execution_count": 41,
   "metadata": {},
   "outputs": [
    {
     "name": "stdout",
     "output_type": "stream",
     "text": [
      "Getting output for model flax\n",
      "Computing all the flax lightcurves for a subset of 100 lightcurves took 32.9498770236969 seconds.\n",
      "Getting output for model tf\n",
      "Computing all the flax lightcurves for a subset of 100 lightcurves took 4.315046072006226 seconds.\n"
     ]
    }
   ],
   "source": [
    "output_dict = {\"flax\": [], \n",
    "               \"tf\": []}\n",
    "\n",
    "models_dict = {\"flax\": flax_model, \n",
    "               \"tf\": tf_model}\n",
    "\n",
    "for key in models_dict.keys():\n",
    "    print(f\"Getting output for model {key}\")\n",
    "    model = models_dict[key]\n",
    "    start = time.time()\n",
    "\n",
    "    for i in idx_list:\n",
    "        # Compute the lightcurve\n",
    "        _, _, mag = nmma.em.utils.calc_lc(t,\n",
    "                                    input_values[i], \n",
    "                                    svd_mag_model = model.svd_mag_model, \n",
    "                                    interpolation_type=model.interpolation_type,\n",
    "                                    filters = filts, \n",
    "                                    mag_ncoeff = 10\n",
    "                                    )\n",
    "        # Convert this dictionary to values of the LCs\n",
    "        mag = mag.values()\n",
    "        mag = np.array(list(mag))#.T\n",
    "        # Save to the correct output\n",
    "        output_dict[key].append(mag)\n",
    "    end = time.time()\n",
    "    print(f\"Computing all the flax lightcurves for a subset of {N} lightcurves took {end-start} seconds.\")\n",
    "    # Make sure this is a np.ndarray\n",
    "\n",
    "# Convert to np.ndarray\n",
    "output_dict[\"flax\"] = np.array(output_dict[\"flax\"])\n",
    "output_dict[\"tf\"] = np.array(output_dict[\"tf\"])"
   ]
  },
  {
   "cell_type": "markdown",
   "metadata": {},
   "source": [
    "## Compare MSE or MAE values"
   ]
  },
  {
   "cell_type": "markdown",
   "metadata": {},
   "source": [
    "TODO: Best to compare this as a distribution, and perhaps best to consider MAE, or some self-defined loss function or error function?"
   ]
  },
  {
   "cell_type": "code",
   "execution_count": 42,
   "metadata": {},
   "outputs": [],
   "source": [
    "def mse(y_true, y_pred, axis=None):\n",
    "    return np.mean((y_true - y_pred)**2, axis=axis)\n",
    "\n",
    "def se(y_true, y_pred):\n",
    "    return (y_true - y_pred)**2\n",
    "\n",
    "def mae(y_true, y_pred, axis=None):\n",
    "    return np.mean(np.abs(y_true - y_pred), axis=axis)\n",
    "\n",
    "def ae(y_true, y_pred):\n",
    "    return np.abs(y_true - y_pred)\n",
    "\n",
    "def my_format(low: float, med: float, high: float, nb: int = 3) -> str:\n",
    "    med = np.round(med, nb)\n",
    "    low = med - low\n",
    "    low = np.round(low, nb)\n",
    "    high = high - med\n",
    "    high = np.round(high, nb)\n",
    "    \n",
    "    return f\"{med} - {low} + {high}\""
   ]
  },
  {
   "cell_type": "code",
   "execution_count": 56,
   "metadata": {},
   "outputs": [
    {
     "name": "stdout",
     "output_type": "stream",
     "text": [
      "Error function: mse, model: flax\n",
      "Error function: mae, model: flax\n",
      "Error function: mse, model: tf\n",
      "Error function: mae, model: tf\n"
     ]
    }
   ],
   "source": [
    "mse_dict = {\"flax mse\": [], \n",
    "            \"tf mse\": [],\n",
    "            \"flax mae\": [], \n",
    "            \"tf mae\": []}\n",
    "for key, output in output_dict.items():\n",
    "    for error_fn, name_error_fn in zip([mse, mae], [\"mse\", \"mae\"]):\n",
    "        diffs = se(output, sampled_output_values)\n",
    "        axis = 0\n",
    "        mse_values = error_fn(output, sampled_output_values, axis=axis)\n",
    "        mse_values = np.mean(mse_values, axis=0)\n",
    "        print(f\"Error function: {name_error_fn}, model: {key}\")\n",
    "        for f, val in zip(filts, mse_values):\n",
    "            # Add to my dictionary\n",
    "            mse_dict[f\"{key} {name_error_fn}\"].append(val)\n",
    "            # Print if desired\n",
    "            ## print(f\"{f}: {val}\")"
   ]
  },
  {
   "cell_type": "code",
   "execution_count": 57,
   "metadata": {},
   "outputs": [
    {
     "data": {
      "text/html": [
       "<div>\n",
       "<style scoped>\n",
       "    .dataframe tbody tr th:only-of-type {\n",
       "        vertical-align: middle;\n",
       "    }\n",
       "\n",
       "    .dataframe tbody tr th {\n",
       "        vertical-align: top;\n",
       "    }\n",
       "\n",
       "    .dataframe thead th {\n",
       "        text-align: right;\n",
       "    }\n",
       "</style>\n",
       "<table border=\"1\" class=\"dataframe\">\n",
       "  <thead>\n",
       "    <tr style=\"text-align: right;\">\n",
       "      <th></th>\n",
       "      <th>flax mse</th>\n",
       "      <th>tf mse</th>\n",
       "      <th>flax mae</th>\n",
       "      <th>tf mae</th>\n",
       "    </tr>\n",
       "  </thead>\n",
       "  <tbody>\n",
       "    <tr>\n",
       "      <th>bessellux</th>\n",
       "      <td>5.388313</td>\n",
       "      <td>6.911255</td>\n",
       "      <td>1.145407</td>\n",
       "      <td>1.361794</td>\n",
       "    </tr>\n",
       "    <tr>\n",
       "      <th>bessellb</th>\n",
       "      <td>3.927375</td>\n",
       "      <td>4.915675</td>\n",
       "      <td>0.969374</td>\n",
       "      <td>1.178965</td>\n",
       "    </tr>\n",
       "    <tr>\n",
       "      <th>bessellv</th>\n",
       "      <td>2.731485</td>\n",
       "      <td>3.296068</td>\n",
       "      <td>0.779683</td>\n",
       "      <td>0.953346</td>\n",
       "    </tr>\n",
       "    <tr>\n",
       "      <th>bessellr</th>\n",
       "      <td>1.695274</td>\n",
       "      <td>2.189382</td>\n",
       "      <td>0.673414</td>\n",
       "      <td>0.841428</td>\n",
       "    </tr>\n",
       "    <tr>\n",
       "      <th>besselli</th>\n",
       "      <td>1.344738</td>\n",
       "      <td>1.690819</td>\n",
       "      <td>0.605197</td>\n",
       "      <td>0.766069</td>\n",
       "    </tr>\n",
       "    <tr>\n",
       "      <th>sdssu</th>\n",
       "      <td>0.859674</td>\n",
       "      <td>1.072204</td>\n",
       "      <td>0.531136</td>\n",
       "      <td>0.657003</td>\n",
       "    </tr>\n",
       "    <tr>\n",
       "      <th>ps1__g</th>\n",
       "      <td>0.684340</td>\n",
       "      <td>0.850139</td>\n",
       "      <td>0.461206</td>\n",
       "      <td>0.572337</td>\n",
       "    </tr>\n",
       "    <tr>\n",
       "      <th>ps1__r</th>\n",
       "      <td>0.514548</td>\n",
       "      <td>0.695942</td>\n",
       "      <td>0.450967</td>\n",
       "      <td>0.565840</td>\n",
       "    </tr>\n",
       "    <tr>\n",
       "      <th>ps1__i</th>\n",
       "      <td>0.469740</td>\n",
       "      <td>0.607467</td>\n",
       "      <td>0.408007</td>\n",
       "      <td>0.510941</td>\n",
       "    </tr>\n",
       "    <tr>\n",
       "      <th>ps1__z</th>\n",
       "      <td>0.362303</td>\n",
       "      <td>0.502630</td>\n",
       "      <td>0.387090</td>\n",
       "      <td>0.499446</td>\n",
       "    </tr>\n",
       "    <tr>\n",
       "      <th>ps1__y</th>\n",
       "      <td>0.307969</td>\n",
       "      <td>0.435639</td>\n",
       "      <td>0.350444</td>\n",
       "      <td>0.448869</td>\n",
       "    </tr>\n",
       "    <tr>\n",
       "      <th>uvot__b</th>\n",
       "      <td>0.276620</td>\n",
       "      <td>0.403405</td>\n",
       "      <td>0.338537</td>\n",
       "      <td>0.439265</td>\n",
       "    </tr>\n",
       "    <tr>\n",
       "      <th>uvot__u</th>\n",
       "      <td>0.254246</td>\n",
       "      <td>0.362590</td>\n",
       "      <td>0.328386</td>\n",
       "      <td>0.422697</td>\n",
       "    </tr>\n",
       "    <tr>\n",
       "      <th>uvot__uvm2</th>\n",
       "      <td>0.244766</td>\n",
       "      <td>0.358405</td>\n",
       "      <td>0.309270</td>\n",
       "      <td>0.415830</td>\n",
       "    </tr>\n",
       "    <tr>\n",
       "      <th>uvot__uvw1</th>\n",
       "      <td>0.187192</td>\n",
       "      <td>0.279511</td>\n",
       "      <td>0.286351</td>\n",
       "      <td>0.380324</td>\n",
       "    </tr>\n",
       "    <tr>\n",
       "      <th>uvot__uvw2</th>\n",
       "      <td>0.176559</td>\n",
       "      <td>0.267906</td>\n",
       "      <td>0.272079</td>\n",
       "      <td>0.370147</td>\n",
       "    </tr>\n",
       "    <tr>\n",
       "      <th>uvot__v</th>\n",
       "      <td>0.172994</td>\n",
       "      <td>0.255196</td>\n",
       "      <td>0.263463</td>\n",
       "      <td>0.358543</td>\n",
       "    </tr>\n",
       "    <tr>\n",
       "      <th>uvot__white</th>\n",
       "      <td>0.145350</td>\n",
       "      <td>0.230427</td>\n",
       "      <td>0.254484</td>\n",
       "      <td>0.355777</td>\n",
       "    </tr>\n",
       "    <tr>\n",
       "      <th>atlasc</th>\n",
       "      <td>0.140906</td>\n",
       "      <td>0.216205</td>\n",
       "      <td>0.249918</td>\n",
       "      <td>0.342699</td>\n",
       "    </tr>\n",
       "    <tr>\n",
       "      <th>atlaso</th>\n",
       "      <td>0.120842</td>\n",
       "      <td>0.203994</td>\n",
       "      <td>0.232313</td>\n",
       "      <td>0.332550</td>\n",
       "    </tr>\n",
       "    <tr>\n",
       "      <th>2massj</th>\n",
       "      <td>0.104774</td>\n",
       "      <td>0.193566</td>\n",
       "      <td>0.217138</td>\n",
       "      <td>0.325947</td>\n",
       "    </tr>\n",
       "    <tr>\n",
       "      <th>2massh</th>\n",
       "      <td>0.099221</td>\n",
       "      <td>0.183880</td>\n",
       "      <td>0.213457</td>\n",
       "      <td>0.325721</td>\n",
       "    </tr>\n",
       "    <tr>\n",
       "      <th>2massks</th>\n",
       "      <td>0.092517</td>\n",
       "      <td>0.175941</td>\n",
       "      <td>0.209044</td>\n",
       "      <td>0.316787</td>\n",
       "    </tr>\n",
       "    <tr>\n",
       "      <th>ztfg</th>\n",
       "      <td>0.096504</td>\n",
       "      <td>0.192633</td>\n",
       "      <td>0.208283</td>\n",
       "      <td>0.333374</td>\n",
       "    </tr>\n",
       "    <tr>\n",
       "      <th>ztfr</th>\n",
       "      <td>0.082596</td>\n",
       "      <td>0.169058</td>\n",
       "      <td>0.196228</td>\n",
       "      <td>0.304802</td>\n",
       "    </tr>\n",
       "    <tr>\n",
       "      <th>ztfi</th>\n",
       "      <td>0.079065</td>\n",
       "      <td>0.168309</td>\n",
       "      <td>0.193828</td>\n",
       "      <td>0.313019</td>\n",
       "    </tr>\n",
       "  </tbody>\n",
       "</table>\n",
       "</div>"
      ],
      "text/plain": [
       "             flax mse    tf mse  flax mae    tf mae\n",
       "bessellux    5.388313  6.911255  1.145407  1.361794\n",
       "bessellb     3.927375  4.915675  0.969374  1.178965\n",
       "bessellv     2.731485  3.296068  0.779683  0.953346\n",
       "bessellr     1.695274  2.189382  0.673414  0.841428\n",
       "besselli     1.344738  1.690819  0.605197  0.766069\n",
       "sdssu        0.859674  1.072204  0.531136  0.657003\n",
       "ps1__g       0.684340  0.850139  0.461206  0.572337\n",
       "ps1__r       0.514548  0.695942  0.450967  0.565840\n",
       "ps1__i       0.469740  0.607467  0.408007  0.510941\n",
       "ps1__z       0.362303  0.502630  0.387090  0.499446\n",
       "ps1__y       0.307969  0.435639  0.350444  0.448869\n",
       "uvot__b      0.276620  0.403405  0.338537  0.439265\n",
       "uvot__u      0.254246  0.362590  0.328386  0.422697\n",
       "uvot__uvm2   0.244766  0.358405  0.309270  0.415830\n",
       "uvot__uvw1   0.187192  0.279511  0.286351  0.380324\n",
       "uvot__uvw2   0.176559  0.267906  0.272079  0.370147\n",
       "uvot__v      0.172994  0.255196  0.263463  0.358543\n",
       "uvot__white  0.145350  0.230427  0.254484  0.355777\n",
       "atlasc       0.140906  0.216205  0.249918  0.342699\n",
       "atlaso       0.120842  0.203994  0.232313  0.332550\n",
       "2massj       0.104774  0.193566  0.217138  0.325947\n",
       "2massh       0.099221  0.183880  0.213457  0.325721\n",
       "2massks      0.092517  0.175941  0.209044  0.316787\n",
       "ztfg         0.096504  0.192633  0.208283  0.333374\n",
       "ztfr         0.082596  0.169058  0.196228  0.304802\n",
       "ztfi         0.079065  0.168309  0.193828  0.313019"
      ]
     },
     "execution_count": 57,
     "metadata": {},
     "output_type": "execute_result"
    }
   ],
   "source": [
    "df = pd.DataFrame(mse_dict)\n",
    "df.index = filts\n",
    "df"
   ]
  },
  {
   "cell_type": "markdown",
   "metadata": {},
   "source": [
    "## Speed comparison: improve speed generation of flax?"
   ]
  },
  {
   "cell_type": "code",
   "execution_count": 44,
   "metadata": {},
   "outputs": [],
   "source": [
    "import jax\n",
    "import jax.numpy as jnp\n",
    "import scipy.interpolate as interp"
   ]
  },
  {
   "cell_type": "markdown",
   "metadata": {},
   "source": [
    "### 1. Jit, no vmap"
   ]
  },
  {
   "cell_type": "code",
   "execution_count": 52,
   "metadata": {},
   "outputs": [
    {
     "name": "stdout",
     "output_type": "stream",
     "text": [
      "Computing all the flax lightcurves for a subset of 100 lightcurves took 0.032933712005615234 seconds.\n"
     ]
    }
   ],
   "source": [
    "# Lambda function, so that we focus on the parameters as being the input only\n",
    "from nmma.em.utils import get_calc_lc_jit\n",
    "calc_lc_given_params_jit = get_calc_lc_jit(t, svd_mag_model=flax_model.svd_mag_model, filters=filts)\n",
    "# Compilation\n",
    "_ = calc_lc_given_params_jit(sampled_input_values[0])\n",
    "start = time.time()\n",
    "for i in range(N):\n",
    "    _ = calc_lc_given_params_jit(sampled_input_values[i])\n",
    "end = time.time()\n",
    "print(f\"Computing all the flax lightcurves for a subset of {N} lightcurves took {end-start} seconds.\")"
   ]
  },
  {
   "cell_type": "markdown",
   "metadata": {},
   "source": [
    "### 2. Jit and vmap"
   ]
  },
  {
   "cell_type": "code",
   "execution_count": 53,
   "metadata": {},
   "outputs": [
    {
     "name": "stdout",
     "output_type": "stream",
     "text": [
      "Computing all the flax lightcurves for a subset of 100 lightcurves took 0.0031833648681640625 seconds.\n"
     ]
    }
   ],
   "source": [
    "# vmap the function\n",
    "calc_lc_given_params_vmap = jax.vmap(calc_lc_given_params_jit)\n",
    "# apply to input_values\n",
    "# Compilation\n",
    "_ = calc_lc_given_params_vmap(sampled_input_values)\n",
    "# Execution time\n",
    "start = time.time()\n",
    "_ = calc_lc_given_params_vmap(sampled_input_values)\n",
    "end = time.time()\n",
    "print(f\"Computing all the flax lightcurves for a subset of {N} lightcurves took {end-start} seconds.\")"
   ]
  },
  {
   "cell_type": "code",
   "execution_count": null,
   "metadata": {},
   "outputs": [],
   "source": []
  },
  {
   "cell_type": "code",
   "execution_count": null,
   "metadata": {},
   "outputs": [],
   "source": []
  }
 ],
 "metadata": {
  "kernelspec": {
   "display_name": "nmma",
   "language": "python",
   "name": "python3"
  },
  "language_info": {
   "codemirror_mode": {
    "name": "ipython",
    "version": 3
   },
   "file_extension": ".py",
   "mimetype": "text/x-python",
   "name": "python",
   "nbconvert_exporter": "python",
   "pygments_lexer": "ipython3",
   "version": "3.10.13"
  },
  "orig_nbformat": 4
 },
 "nbformat": 4,
 "nbformat_minor": 2
}
