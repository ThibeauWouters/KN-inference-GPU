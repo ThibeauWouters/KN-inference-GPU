{
 "cells": [
  {
   "cell_type": "markdown",
   "metadata": {},
   "source": [
    "# Kilonova surrogate modelling with $\\texttt{jax}$ and $\\texttt{flax}$"
   ]
  },
  {
   "cell_type": "markdown",
   "metadata": {},
   "source": [
    "**Abstract:** Building and training KN surrogate models with jax and flax. \n",
    "\n",
    "See the new tutorial notebook in the main NMMA repository to get a sense of these individual steps."
   ]
  },
  {
   "cell_type": "code",
   "execution_count": 38,
   "metadata": {},
   "outputs": [
    {
     "name": "stdout",
     "output_type": "stream",
     "text": [
      "The autoreload extension is already loaded. To reload it, use:\n",
      "  %reload_ext autoreload\n"
     ]
    }
   ],
   "source": [
    "%load_ext autoreload \n",
    "%autoreload 2\n",
    "\n",
    "import numpy as np\n",
    "import pandas as pd\n",
    "import matplotlib.pyplot as plt\n",
    "import os\n",
    "from nmma.em.training import SVDTrainingModel\n",
    "import nmma as nmma\n",
    "\n",
    "params = {\"axes.grid\": True,\n",
    "        \"text.usetex\" : True,\n",
    "        \"font.family\" : \"serif\",\n",
    "        \"ytick.color\" : \"black\",\n",
    "        \"xtick.color\" : \"black\",\n",
    "        \"axes.labelcolor\" : \"black\",\n",
    "        \"axes.edgecolor\" : \"black\",\n",
    "        \"font.serif\" : [\"Computer Modern Serif\"],\n",
    "        \"xtick.labelsize\": 16,\n",
    "        \"ytick.labelsize\": 16,\n",
    "        \"axes.labelsize\": 16,\n",
    "        \"legend.fontsize\": 16,\n",
    "        \"legend.title_fontsize\": 16,\n",
    "        \"figure.titlesize\": 16}\n",
    "\n",
    "plt.rcParams.update(params)"
   ]
  },
  {
   "cell_type": "code",
   "execution_count": 39,
   "metadata": {},
   "outputs": [
    {
     "data": {
      "text/plain": [
       "[cuda(id=0)]"
      ]
     },
     "execution_count": 39,
     "metadata": {},
     "output_type": "execute_result"
    }
   ],
   "source": [
    "import jax\n",
    "import jaxlib\n",
    "jax.devices() # check if CUDA is present"
   ]
  },
  {
   "cell_type": "markdown",
   "metadata": {},
   "source": [
    "## Preprocessing data"
   ]
  },
  {
   "cell_type": "code",
   "execution_count": 40,
   "metadata": {},
   "outputs": [
    {
     "name": "stdout",
     "output_type": "stream",
     "text": [
      "There are 7700 lightcurves for this model.\n"
     ]
    }
   ],
   "source": [
    "lcs_dir = \"/home/urash/twouters/KN_Lightcurves/lightcurves/lcs_bulla_2022\" # for remote SSH Potsdam\n",
    "out_dir = \"/home/urash/twouters/nmma_models/flax_models/\" # initial flax models will be saved here\n",
    "filenames = os.listdir(lcs_dir)\n",
    "full_filenames = [os.path.join(lcs_dir, f) for f in filenames]\n",
    "print(f\"There are {len(full_filenames)} lightcurves for this model.\")"
   ]
  },
  {
   "cell_type": "code",
   "execution_count": 41,
   "metadata": {},
   "outputs": [],
   "source": [
    "from nmma.em.io import read_photometry_files\n",
    "from nmma.em.utils import interpolate_nans\n",
    "\n",
    "data = read_photometry_files(full_filenames)\n",
    "data = interpolate_nans(data)"
   ]
  },
  {
   "cell_type": "code",
   "execution_count": null,
   "metadata": {},
   "outputs": [],
   "source": [
    "import inspect \n",
    "import nmma.em.model_parameters as model_parameters\n",
    "\n",
    "MODEL_FUNCTIONS = {\n",
    "    k: v for k, v in model_parameters.__dict__.items() if inspect.isfunction(v)\n",
    "}\n",
    "\n",
    "model_name = \"Bu2022Ye\"\n",
    "model_function = MODEL_FUNCTIONS[model_name]\n",
    "training_data, parameters = model_function(data)"
   ]
  },
  {
   "cell_type": "code",
   "execution_count": null,
   "metadata": {},
   "outputs": [
    {
     "name": "stdout",
     "output_type": "stream",
     "text": [
      "['bessellux', 'bessellb', 'bessellv', 'bessellr', 'besselli', 'sdssu', 'ps1__g', 'ps1__r', 'ps1__i', 'ps1__z', 'ps1__y', 'uvot__b', 'uvot__u', 'uvot__uvm2', 'uvot__uvw1', 'uvot__uvw2', 'uvot__v', 'uvot__white', 'atlasc', 'atlaso', '2massj', '2massh', '2massks', 'ztfg', 'ztfr', 'ztfi']\n"
     ]
    }
   ],
   "source": [
    "key = list(training_data.keys())[0]\n",
    "example = training_data[key]\n",
    "t = example[\"t\"]\n",
    "keys = list(example.keys())\n",
    "filts = [k for k in keys if k not in parameters + [\"t\"]]\n",
    "print(filts)"
   ]
  },
  {
   "cell_type": "markdown",
   "metadata": {},
   "source": [
    "## Flax model\n"
   ]
  },
  {
   "cell_type": "code",
   "execution_count": null,
   "metadata": {},
   "outputs": [
    {
     "name": "stdout",
     "output_type": "stream",
     "text": [
      "The grid will be interpolated to sample_time with interp1d\n",
      "Model exists... will load that model.\n",
      "getting model\n",
      "getting model: OK\n"
     ]
    },
    {
     "ename": "KeyError",
     "evalue": "'gmodelps'",
     "output_type": "error",
     "traceback": [
      "\u001b[0;31m---------------------------------------------------------------------------\u001b[0m",
      "\u001b[0;31mKeyError\u001b[0m                                  Traceback (most recent call last)",
      "Cell \u001b[0;32mIn[37], line 1\u001b[0m\n\u001b[0;32m----> 1\u001b[0m training_model \u001b[39m=\u001b[39m SVDTrainingModel(\n\u001b[1;32m      2\u001b[0m         model_name,\n\u001b[1;32m      3\u001b[0m         training_data,\n\u001b[1;32m      4\u001b[0m         parameters,\n\u001b[1;32m      5\u001b[0m         t,\n\u001b[1;32m      6\u001b[0m         filts,\n\u001b[1;32m      7\u001b[0m         interpolation_type\u001b[39m=\u001b[39;49m\u001b[39m\"\u001b[39;49m\u001b[39mflax\u001b[39;49m\u001b[39m\"\u001b[39;49m,\n\u001b[1;32m      8\u001b[0m         svd_path\u001b[39m=\u001b[39;49mout_dir \u001b[39m# initial flax models will be saved here\u001b[39;49;00m\n\u001b[1;32m      9\u001b[0m     )\n\u001b[1;32m     11\u001b[0m \u001b[39mprint\u001b[39m(training_model\u001b[39m.\u001b[39msvd_path)\n",
      "File \u001b[0;32m~/nmma_gpu/nmma/em/training.py:117\u001b[0m, in \u001b[0;36mSVDTrainingModel.__init__\u001b[0;34m(self, model, data, parameters, sample_times, filters, svd_path, n_coeff, n_epochs, interpolation_type, data_type, data_time_unit, plot, plotdir, ncpus, univariate_spline, univariate_spline_s, random_seed, start_training)\u001b[0m\n\u001b[1;32m    115\u001b[0m \u001b[39melse\u001b[39;00m:\n\u001b[1;32m    116\u001b[0m     \u001b[39mprint\u001b[39m(\u001b[39m\"\u001b[39m\u001b[39mModel exists... will load that model.\u001b[39m\u001b[39m\"\u001b[39m)\n\u001b[0;32m--> 117\u001b[0m     \u001b[39mself\u001b[39;49m\u001b[39m.\u001b[39;49mload_model()\n",
      "File \u001b[0;32m~/nmma_gpu/nmma/em/training.py:655\u001b[0m, in \u001b[0;36mSVDTrainingModel.load_model\u001b[0;34m(self)\u001b[0m\n\u001b[1;32m    653\u001b[0m     \u001b[39mself\u001b[39m\u001b[39m.\u001b[39msvd_model \u001b[39m=\u001b[39m pickle\u001b[39m.\u001b[39mload(handle)\n\u001b[1;32m    654\u001b[0m \u001b[39mfor\u001b[39;00m filt \u001b[39min\u001b[39;00m \u001b[39mself\u001b[39m\u001b[39m.\u001b[39msvd_model\u001b[39m.\u001b[39mkeys():\n\u001b[0;32m--> 655\u001b[0m     \u001b[39mfor\u001b[39;00m ii \u001b[39min\u001b[39;00m \u001b[39mrange\u001b[39m(\u001b[39mlen\u001b[39m(\u001b[39mself\u001b[39;49m\u001b[39m.\u001b[39;49msvd_model[filt][\u001b[39m\"\u001b[39;49m\u001b[39mgmodelps\u001b[39;49m\u001b[39m\"\u001b[39;49m])):\n\u001b[1;32m    656\u001b[0m         \u001b[39mself\u001b[39m\u001b[39m.\u001b[39msvd_model[filt][\u001b[39m\"\u001b[39m\u001b[39mmodel\u001b[39m\u001b[39m\"\u001b[39m][ii] \u001b[39m=\u001b[39m load_flax_model(\n\u001b[1;32m    657\u001b[0m             \u001b[39mself\u001b[39m\u001b[39m.\u001b[39msvd_model[filt][\u001b[39m\"\u001b[39m\u001b[39mmodel\u001b[39m\u001b[39m\"\u001b[39m][ii]\n\u001b[1;32m    658\u001b[0m         )\n",
      "\u001b[0;31mKeyError\u001b[0m: 'gmodelps'"
     ]
    }
   ],
   "source": [
    "training_model = SVDTrainingModel(\n",
    "        model_name,\n",
    "        training_data,\n",
    "        parameters,\n",
    "        t,\n",
    "        filts,\n",
    "        interpolation_type=\"flax\",\n",
    "        svd_path=out_dir # initial flax models will be saved here\n",
    "    )\n",
    "\n",
    "print(training_model.svd_path)"
   ]
  },
  {
   "cell_type": "code",
   "execution_count": null,
   "metadata": {},
   "outputs": [
    {
     "data": {
      "text/plain": [
       "dict_keys(['model', 'data', 'model_parameters', 'sample_times', 'filters', 'n_coeff', 'n_epochs', 'interpolation_type', 'data_type', 'data_time_unit', 'plot', 'plotdir', 'ncpus', 'univariate_spline', 'univariate_spline_s', 'random_seed', 'svd_path'])"
      ]
     },
     "execution_count": 14,
     "metadata": {},
     "output_type": "execute_result"
    }
   ],
   "source": [
    "training_model.__dict__.keys()"
   ]
  },
  {
   "cell_type": "markdown",
   "metadata": {},
   "source": [
    "How to generate the lightcurve"
   ]
  },
  {
   "cell_type": "code",
   "execution_count": null,
   "metadata": {},
   "outputs": [],
   "source": [
    "example_parameters = [-2.30103, 0.12, 0.3, -1.30103, 0.03, 25.84]"
   ]
  },
  {
   "cell_type": "code",
   "execution_count": null,
   "metadata": {},
   "outputs": [
    {
     "ename": "TypeError",
     "evalue": "'SVDTrainingModel' object is not subscriptable",
     "output_type": "error",
     "traceback": [
      "\u001b[0;31m---------------------------------------------------------------------------\u001b[0m",
      "\u001b[0;31mTypeError\u001b[0m                                 Traceback (most recent call last)",
      "Cell \u001b[0;32mIn[10], line 1\u001b[0m\n\u001b[0;32m----> 1\u001b[0m test \u001b[39m=\u001b[39m nmma\u001b[39m.\u001b[39;49mem\u001b[39m.\u001b[39;49mutils\u001b[39m.\u001b[39;49mcalc_lc(t,\n\u001b[1;32m      2\u001b[0m                             example_parameters, \n\u001b[1;32m      3\u001b[0m                             svd_mag_model \u001b[39m=\u001b[39;49m training_model, \n\u001b[1;32m      4\u001b[0m                             interpolation_type\u001b[39m=\u001b[39;49m\u001b[39m\"\u001b[39;49m\u001b[39mflax\u001b[39;49m\u001b[39m\"\u001b[39;49m, \n\u001b[1;32m      5\u001b[0m                             filters \u001b[39m=\u001b[39;49m filts, \n\u001b[1;32m      6\u001b[0m                             )\n",
      "File \u001b[0;32m~/nmma_gpu/nmma/em/utils.py:339\u001b[0m, in \u001b[0;36mcalc_lc\u001b[0;34m(tt, param_list, svd_mag_model, svd_lbol_model, mag_ncoeff, lbol_ncoeff, interpolation_type, filters)\u001b[0m\n\u001b[1;32m    336\u001b[0m mAB \u001b[39m=\u001b[39m {}\n\u001b[1;32m    338\u001b[0m \u001b[39mif\u001b[39;00m interpolation_type \u001b[39m==\u001b[39m \u001b[39m\"\u001b[39m\u001b[39mflax\u001b[39m\u001b[39m\"\u001b[39m:\n\u001b[0;32m--> 339\u001b[0m     \u001b[39mreturn\u001b[39;00m calc_lc_flax(tt, param_list, svd_mag_model, svd_lbol_model, mag_ncoeff, lbol_ncoeff, filters)\n\u001b[1;32m    341\u001b[0m \u001b[39mif\u001b[39;00m filters \u001b[39mis\u001b[39;00m \u001b[39mNone\u001b[39;00m:\n\u001b[1;32m    342\u001b[0m     filters \u001b[39m=\u001b[39m \u001b[39mlist\u001b[39m(svd_mag_model\u001b[39m.\u001b[39mkeys())\n",
      "File \u001b[0;32m~/nmma_gpu/nmma/em/utils.py:504\u001b[0m, in \u001b[0;36mcalc_lc_flax\u001b[0;34m(tt, param_list, svd_mag_model, svd_lbol_model, mag_ncoeff, lbol_ncoeff, filters)\u001b[0m\n\u001b[1;32m    502\u001b[0m     n_coeff \u001b[39m=\u001b[39m \u001b[39mmin\u001b[39m(mag_ncoeff, svd_mag_model[filt][\u001b[39m\"\u001b[39m\u001b[39mn_coeff\u001b[39m\u001b[39m\"\u001b[39m])\n\u001b[1;32m    503\u001b[0m \u001b[39melse\u001b[39;00m:\n\u001b[0;32m--> 504\u001b[0m     n_coeff \u001b[39m=\u001b[39m svd_mag_model[filt][\u001b[39m\"\u001b[39m\u001b[39mn_coeff\u001b[39m\u001b[39m\"\u001b[39m]\n\u001b[1;32m    505\u001b[0m \u001b[39m# param_array = svd_mag_model[filt][\"param_array\"]\u001b[39;00m\n\u001b[1;32m    506\u001b[0m \u001b[39m# cAmat = svd_mag_model[filt][\"cAmat\"]\u001b[39;00m\n\u001b[1;32m    507\u001b[0m VA \u001b[39m=\u001b[39m svd_mag_model[filt][\u001b[39m\"\u001b[39m\u001b[39mVA\u001b[39m\u001b[39m\"\u001b[39m]\n",
      "\u001b[0;31mTypeError\u001b[0m: 'SVDTrainingModel' object is not subscriptable"
     ]
    }
   ],
   "source": [
    "test = nmma.em.utils.calc_lc(t,\n",
    "                            example_parameters, \n",
    "                            svd_mag_model = training_model, \n",
    "                            interpolation_type=\"flax\", \n",
    "                            filters = filts, \n",
    "                            )"
   ]
  },
  {
   "cell_type": "code",
   "execution_count": null,
   "metadata": {},
   "outputs": [],
   "source": []
  }
 ],
 "metadata": {
  "kernelspec": {
   "display_name": "nmma",
   "language": "python",
   "name": "python3"
  },
  "language_info": {
   "codemirror_mode": {
    "name": "ipython",
    "version": 3
   },
   "file_extension": ".py",
   "mimetype": "text/x-python",
   "name": "python",
   "nbconvert_exporter": "python",
   "pygments_lexer": "ipython3",
   "version": "3.10.13"
  },
  "orig_nbformat": 4
 },
 "nbformat": 4,
 "nbformat_minor": 2
}
