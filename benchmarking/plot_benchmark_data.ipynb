{
 "cells": [
  {
   "cell_type": "markdown",
   "metadata": {},
   "source": [
    "# Plot benchmark data"
   ]
  },
  {
   "cell_type": "markdown",
   "metadata": {},
   "source": [
    "**Abstract**: I have ran some benchmarking runs with svdmodel benchmark, and saved the results to a CSV file. Here, I will make some plots regarding the obtained data. "
   ]
  },
  {
   "cell_type": "code",
   "execution_count": 11,
   "metadata": {},
   "outputs": [],
   "source": [
    "import numpy as np\n",
    "import matplotlib.pyplot as plt\n",
    "import pandas as pd\n",
    "import os\n",
    "\n",
    "bu2022_outdir = \"./outdir_Bu2022/\"\n",
    "bu2023_outdir = \"./outdir_Bu2023/\"\n",
    "bu2022_high_tmin_outdir = \"./outdir_Bu2022_high_tmin/\"\n",
    "bu2023_high_tmin_outdir = \"./outdir_Bu2023_high_tmin/\"\n",
    "outdir = \"./postprocessing/\""
   ]
  },
  {
   "cell_type": "markdown",
   "metadata": {},
   "source": [
    "## Preparation"
   ]
  },
  {
   "cell_type": "markdown",
   "metadata": {},
   "source": [
    "Note: All the filters used in Bu2023Ye are also in Bu2022Ye (but not vice versa)"
   ]
  },
  {
   "cell_type": "markdown",
   "metadata": {},
   "source": [
    "## tmin = 0.0"
   ]
  },
  {
   "cell_type": "code",
   "execution_count": 12,
   "metadata": {},
   "outputs": [
    {
     "name": "stdout",
     "output_type": "stream",
     "text": [
      "2massj\n",
      "19.864103001421526\n",
      "4937.955208075831\n",
      "ps1__z\n",
      "15.859011547262563\n",
      "5795.414991427088\n",
      "ps1__g\n",
      "34.92535032374995\n",
      "7058.864774453165\n",
      "2massks\n",
      "53.011896453567026\n",
      "4378.272181498411\n",
      "sdssu\n",
      "8.284960432816415\n",
      "9084.096097600152\n",
      "ps1__y\n",
      "26.459685380610793\n",
      "6156.958257405681\n",
      "2massh\n",
      "23.39725065903423\n",
      "6052.88471893461\n",
      "ps1__r\n",
      "15.05737571359532\n",
      "5817.332886870435\n",
      "ps1__i\n",
      "18.22529202575738\n",
      "5673.983457392165\n"
     ]
    }
   ],
   "source": [
    "which_bu2022 = bu2022_outdir\n",
    "which_bu2023 = bu2023_outdir\n",
    "\n",
    "bu2022_files = [f for f in os.listdir(which_bu2022) if \".csv\" in f]\n",
    "bu2022_filters = [f.replace(\".csv\", \"\") for f in bu2022_files]\n",
    "\n",
    "bu2023_files = [f for f in os.listdir(which_bu2023) if \".csv\" in f]\n",
    "bu2023_filters = [f.replace(\".csv\", \"\") for f in bu2023_files]\n",
    "\n",
    "filters = bu2023_filters\n",
    "\n",
    "for filt in filters:\n",
    "    bu2022_data = np.loadtxt(bu2022_outdir + f\"{filt}.csv\")\n",
    "    bu2023_data = np.loadtxt(bu2023_outdir + f\"{filt}.csv\")\n",
    "    \n",
    "    print(filt)\n",
    "    print(np.max(bu2022_data))\n",
    "    print(np.max(bu2023_data))\n",
    "    \n",
    "    # Sort the data\n",
    "    bu2022_data = np.sort(bu2022_data)[::-1]\n",
    "    bu2023_data = np.sort(bu2023_data)[::-1]\n",
    "\n",
    "    # print(bu2022_data)\n",
    "    # print(bu2023_data)\n",
    "    \n",
    "    # Make histogram\n",
    "    plt.figure()\n",
    "    plt.hist(bu2022_data, bins=10000, range=(0,100), histtype=\"step\", label=\"Bu2022\", color = \"blue\")\n",
    "    plt.hist(bu2023_data, bins=10000, range=(0,100), histtype=\"step\", label=\"Bu2023\", color = \"red\")\n",
    "    \n",
    "    # plt.xlabel(r\"$\\chi^2 / {\\rm d.o.f.}$\")\n",
    "    plt.ylabel(\"Count\")\n",
    "    plt.legend()\n",
    "    plt.savefig(f\"{outdir}/{filt}.pdf\", bbox_inches=\"tight\")\n",
    "    plt.savefig(f\"{outdir}/{filt}.png\", bbox_inches=\"tight\")\n",
    "    plt.close()"
   ]
  },
  {
   "cell_type": "markdown",
   "metadata": {},
   "source": [
    "## tmax = 0.5"
   ]
  },
  {
   "cell_type": "code",
   "execution_count": 13,
   "metadata": {},
   "outputs": [
    {
     "name": "stdout",
     "output_type": "stream",
     "text": [
      "ps1__g\n",
      "34.92535032374995\n",
      "7058.864774453165\n",
      "ps1__z\n",
      "15.859011547262563\n",
      "5795.414991427088\n",
      "ps1__i\n",
      "18.22529202575738\n",
      "5673.983457392165\n",
      "sdssu\n",
      "8.284960432816415\n",
      "9084.096097600152\n",
      "ps1__r\n",
      "15.05737571359532\n",
      "5817.332886870435\n",
      "2massh\n",
      "23.39725065903423\n",
      "6052.88471893461\n",
      "ps1__y\n",
      "26.459685380610793\n",
      "6156.958257405681\n",
      "2massks\n",
      "53.011896453567026\n",
      "4378.272181498411\n",
      "2massj\n",
      "19.864103001421526\n",
      "4937.955208075831\n"
     ]
    }
   ],
   "source": [
    "which_bu2022 = bu2022_high_tmin_outdir\n",
    "which_bu2023 = bu2023_high_tmin_outdir\n",
    "\n",
    "bu2022_files = [f for f in os.listdir(which_bu2022) if \".csv\" in f]\n",
    "bu2022_filters = [f.replace(\".csv\", \"\") for f in bu2022_files]\n",
    "\n",
    "bu2023_files = [f for f in os.listdir(which_bu2023) if \".csv\" in f]\n",
    "bu2023_filters = [f.replace(\".csv\", \"\") for f in bu2023_files]\n",
    "\n",
    "filters = bu2023_filters\n",
    "\n",
    "for filt in filters:\n",
    "    bu2022_data = np.loadtxt(bu2022_outdir + f\"{filt}.csv\")\n",
    "    bu2023_data = np.loadtxt(bu2023_outdir + f\"{filt}.csv\")\n",
    "    \n",
    "    print(filt)\n",
    "    print(np.max(bu2022_data))\n",
    "    print(np.max(bu2023_data))\n",
    "    \n",
    "    # Sort the data\n",
    "    bu2022_data = np.sort(bu2022_data)[::-1]\n",
    "    bu2023_data = np.sort(bu2023_data)[::-1]\n",
    "\n",
    "    # print(bu2022_data)\n",
    "    # print(bu2023_data)\n",
    "    \n",
    "    # Make histogram\n",
    "    plt.figure()\n",
    "    plt.hist(bu2022_data, bins=10000, range=(0,100), histtype=\"step\", label=\"Bu2022\", color = \"blue\")\n",
    "    plt.hist(bu2023_data, bins=10000, range=(0,100), histtype=\"step\", label=\"Bu2023\", color = \"red\")\n",
    "    \n",
    "    # plt.xlabel(r\"$\\chi^2 / {\\rm d.o.f.}$\")\n",
    "    plt.ylabel(\"Count\")\n",
    "    plt.legend()\n",
    "    plt.savefig(f\"{outdir}/{filt}.pdf\", bbox_inches=\"tight\")\n",
    "    plt.savefig(f\"{outdir}/{filt}.png\", bbox_inches=\"tight\")\n",
    "    plt.close()"
   ]
  },
  {
   "cell_type": "code",
   "execution_count": null,
   "metadata": {},
   "outputs": [],
   "source": []
  }
 ],
 "metadata": {
  "kernelspec": {
   "display_name": "nmma",
   "language": "python",
   "name": "python3"
  },
  "language_info": {
   "codemirror_mode": {
    "name": "ipython",
    "version": 3
   },
   "file_extension": ".py",
   "mimetype": "text/x-python",
   "name": "python",
   "nbconvert_exporter": "python",
   "pygments_lexer": "ipython3",
   "version": "3.6.15"
  },
  "orig_nbformat": 4
 },
 "nbformat": 4,
 "nbformat_minor": 2
}
