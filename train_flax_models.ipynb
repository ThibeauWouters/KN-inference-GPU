{
 "cells": [
  {
   "cell_type": "markdown",
   "metadata": {},
   "source": [
    "# Training KN flax models"
   ]
  },
  {
   "cell_type": "code",
   "execution_count": 1,
   "metadata": {},
   "outputs": [
    {
     "name": "stdout",
     "output_type": "stream",
     "text": [
      "The autoreload extension is already loaded. To reload it, use:\n",
      "  %reload_ext autoreload\n"
     ]
    },
    {
     "name": "stderr",
     "output_type": "stream",
     "text": [
      "/home/urash/twouters/miniconda3/envs/nmma_gpu/lib/python3.10/site-packages/scipy/__init__.py:146: UserWarning: A NumPy version >=1.16.5 and <1.23.0 is required for this version of SciPy (detected version 1.26.1\n",
      "  warnings.warn(f\"A NumPy version >={np_minversion} and <{np_maxversion}\"\n",
      "/home/urash/twouters/miniconda3/envs/nmma_gpu/lib/python3.10/site-packages/tqdm/auto.py:21: TqdmWarning: IProgress not found. Please update jupyter and ipywidgets. See https://ipywidgets.readthedocs.io/en/stable/user_install.html\n",
      "  from .autonotebook import tqdm as notebook_tqdm\n"
     ]
    },
    {
     "name": "stdout",
     "output_type": "stream",
     "text": [
      "Install afterglowpy if you want to simulate afterglows.\n",
      "Install wrapt_timeout_decorator if you want timeout simulations.\n"
     ]
    }
   ],
   "source": [
    "%load_ext autoreload \n",
    "%autoreload 2\n",
    "\n",
    "import inspect \n",
    "import numpy as np\n",
    "import pandas as pd\n",
    "import matplotlib.pyplot as plt\n",
    "import os\n",
    "import time\n",
    "import arviz\n",
    "from sklearn.model_selection import train_test_split\n",
    "\n",
    "# NMMA imports\n",
    "from nmma.em.training import SVDTrainingModel\n",
    "import nmma as nmma\n",
    "from nmma.em.io import read_photometry_files\n",
    "from nmma.em.utils import interpolate_nans\n",
    "import nmma.em.model_parameters as model_parameters\n",
    "\n",
    "### jax and friends\n",
    "import jax\n",
    "import jax.numpy as jnp\n",
    "from flax import linen as nn  # Linen API\n",
    "from flax.training import train_state  # Useful dataclass to keep train state\n",
    "from flax import struct                # Flax dataclasses\n",
    "import optax\n",
    "\n",
    "print(jax.devices()) # check presence of CUDA is OK\n",
    "\n",
    "params = {\"axes.grid\": True,\n",
    "        \"text.usetex\" : True,\n",
    "        \"font.family\" : \"serif\",\n",
    "        \"ytick.color\" : \"black\",\n",
    "        \"xtick.color\" : \"black\",\n",
    "        \"axes.labelcolor\" : \"black\",\n",
    "        \"axes.edgecolor\" : \"black\",\n",
    "        \"font.serif\" : [\"Computer Modern Serif\"],\n",
    "        \"xtick.labelsize\": 16,\n",
    "        \"ytick.labelsize\": 16,\n",
    "        \"axes.labelsize\": 16,\n",
    "        \"legend.fontsize\": 16,\n",
    "        \"legend.title_fontsize\": 16,\n",
    "        \"figure.titlesize\": 16}\n",
    "plt.rcParams.update(params)\n",
    "\n",
    "# Get preprocessing function to read the data\n",
    "MODEL_FUNCTIONS = {\n",
    "    k: v for k, v in model_parameters.__dict__.items() if inspect.isfunction(v)\n",
    "}\n",
    "\n",
    "model_name = \"Bu2022Ye\"\n",
    "model_function = MODEL_FUNCTIONS[model_name]"
   ]
  },
  {
   "cell_type": "markdown",
   "metadata": {},
   "source": [
    "## Data preprocessing"
   ]
  },
  {
   "cell_type": "code",
   "execution_count": null,
   "metadata": {},
   "outputs": [],
   "source": [
    "lcs_dir = \"/home/urash/twouters/KN_Lightcurves/lightcurves/lcs_bulla_2022\" # for remote SSH Potsdam\n",
    "filenames = os.listdir(lcs_dir)\n",
    "full_filenames = [os.path.join(lcs_dir, f) for f in filenames]\n",
    "\n",
    "print(\"Cleaning data...\")\n",
    "data = read_photometry_files(full_filenames)\n",
    "data = interpolate_nans(data)\n",
    "\n",
    "print(\"Getting training data...\")\n",
    "training_data, parameters = model_function(data)\n",
    "\n",
    "key = list(training_data.keys())[0]\n",
    "example = training_data[key]\n",
    "t = example[\"t\"]\n",
    "keys = list(example.keys())\n",
    "filts = [k for k in keys if k not in parameters + [\"t\"]]\n",
    "print(\"Filters:\")\n",
    "print(filts)\n",
    "\n",
    "print(\"Getting the SVD model, start_training=False\")\n",
    "svd_ncoeff = 10\n",
    "training_model = SVDTrainingModel(\n",
    "        model_name,\n",
    "        training_data,\n",
    "        parameters,\n",
    "        t,\n",
    "        filts,\n",
    "        n_coeff=svd_ncoeff,\n",
    "        interpolation_type=\"flax\",\n",
    "        start_training=False # don't train, just prep the data, we train later on\n",
    "    )"
   ]
  },
  {
   "cell_type": "code",
   "execution_count": null,
   "metadata": {},
   "outputs": [],
   "source": [
    "print(\"Fitting SVD etc\")\n",
    "svd_model = training_model.generate_svd_model()\n",
    "training_model.svd_model = svd_model\n",
    "print(\"Fitting SVD etc DONE\")"
   ]
  },
  {
   "cell_type": "markdown",
   "metadata": {},
   "source": [
    "## Training the NN on SVD-decomposed data"
   ]
  },
  {
   "cell_type": "code",
   "execution_count": null,
   "metadata": {},
   "outputs": [],
   "source": [
    "\n",
    "# training_model.train_model()\n",
    "\n",
    "# X = training_model.svd_model[filts[0]]['param_array_postprocess']\n",
    "# print(f\"Features have shape {X.shape}\")\n",
    "\n",
    "# y = training_model.svd_model[filts[0]]['cAmat'].T\n",
    "# _, output_ndim = y.shape\n",
    "# print(f\"Labels have shape {y.shape}\")\n",
    "\n",
    "# train_X, val_X, train_y, val_y = train_test_split(X, y, random_state=0)"
   ]
  },
  {
   "cell_type": "markdown",
   "metadata": {},
   "source": [
    "## Training the NN on pure lightcurve data"
   ]
  },
  {
   "cell_type": "code",
   "execution_count": null,
   "metadata": {},
   "outputs": [],
   "source": []
  }
 ],
 "metadata": {
  "kernelspec": {
   "display_name": "nmma_gpu",
   "language": "python",
   "name": "python3"
  },
  "language_info": {
   "codemirror_mode": {
    "name": "ipython",
    "version": 3
   },
   "file_extension": ".py",
   "mimetype": "text/x-python",
   "name": "python",
   "nbconvert_exporter": "python",
   "pygments_lexer": "ipython3",
   "version": "3.10.13"
  },
  "orig_nbformat": 4
 },
 "nbformat": 4,
 "nbformat_minor": 2
}
